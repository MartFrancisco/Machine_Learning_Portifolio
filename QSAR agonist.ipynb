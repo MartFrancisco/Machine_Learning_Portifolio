{
 "cells": [
  {
   "cell_type": "markdown",
   "id": "9cb736ee",
   "metadata": {},
   "source": [
    "## Importing Essential Packages"
   ]
  },
  {
   "cell_type": "code",
   "execution_count": null,
   "id": "8a270594",
   "metadata": {},
   "outputs": [],
   "source": [
    "import numpy as np\n",
    "import pandas as pd\n",
    "import matplotlib.pyplot as plt\n",
    "%matplotlib inline\n",
    "import seaborn as sns\n",
    "\n",
    "from imblearn.over_sampling import SMOTE\n",
    "from sklearn import preprocessing\n",
    "\n",
    "from sklearn.model_selection import (train_test_split, GridSearchCV,\n",
    "                                     cross_val_score, cross_validate)\n",
    "\n",
    "from sklearn.svm import SVC\n",
    "from sklearn.ensemble import RandomForestClassifier\n",
    "\n",
    "from sklearn.metrics import (accuracy_score, precision_score, recall_score,\n",
    "                             f1_score, matthews_corrcoef, confusion_matrix, \n",
    "                             classification_report)"
   ]
  },
  {
   "cell_type": "markdown",
   "id": "a829f3bf",
   "metadata": {},
   "source": [
    "### Load Dataset"
   ]
  },
  {
   "cell_type": "code",
   "execution_count": null,
   "id": "447802a3",
   "metadata": {},
   "outputs": [],
   "source": [
    "data = pd.read_csv(\"qsar_androgen_receptor.csv\",sep=\";\", header=None)\n",
    "data.head(10)"
   ]
  },
  {
   "cell_type": "markdown",
   "id": "d3d6eb75",
   "metadata": {},
   "source": [
    "#### The dataset has 1687 observations where the features are molecular fingerprints (1 to 1024) and the last column is the target\n",
    "#### The next step is to split the dataset into features (x) and target (y)"
   ]
  },
  {
   "cell_type": "code",
   "execution_count": null,
   "id": "b9d1863c",
   "metadata": {},
   "outputs": [],
   "source": [
    "x = data.iloc[:, 0:1024]\n",
    "x.head(10)"
   ]
  },
  {
   "cell_type": "code",
   "execution_count": null,
   "id": "3fa5c1fd",
   "metadata": {},
   "outputs": [],
   "source": [
    "y = data.iloc[:, -1]\n",
    "label_encoder = preprocessing.LabelEncoder()\n",
    "y = label_encoder.fit_transform(y)\n",
    "y"
   ]
  },
  {
   "cell_type": "markdown",
   "id": "5003c1ef",
   "metadata": {},
   "source": [
    "### Checking the Data, Features and Target Dimensions"
   ]
  },
  {
   "cell_type": "code",
   "execution_count": null,
   "id": "ffdd7fef",
   "metadata": {},
   "outputs": [],
   "source": [
    "print(\"Data Dimensions: \", data.shape)\n",
    "print(\"Features Dimensions: \", x.shape)\n",
    "print(\"Target Dimensions: \", y.shape)"
   ]
  },
  {
   "cell_type": "markdown",
   "id": "2ae27d83",
   "metadata": {},
   "source": [
    "### The Problem is to Deal with Unbalanced Data\n",
    "\n",
    "#### Check the Difference Between the number of active molecules (positive) and inactive molecules (negative)"
   ]
  },
  {
   "cell_type": "code",
   "execution_count": null,
   "id": "a175f965",
   "metadata": {},
   "outputs": [],
   "source": [
    "frequency = data[1024].value_counts().reset_index()\n",
    "\n",
    "frequency.columns = ['Activity', 'Frequency']\n",
    "groups = pd.DataFrame(frequency)\n",
    "\n",
    "mapping = {0: 'Inactive', 1: 'Active'}\n",
    "groups['Activity'] = groups['Activity'].replace(mapping)\n",
    "print(groups)"
   ]
  },
  {
   "cell_type": "markdown",
   "id": "7ce9fbc3",
   "metadata": {},
   "source": [
    "##### From now on, we deal with the data without correcting the unbalance characteristic\n",
    "#### Two models were tested for this purpose, named Support Vector Classifier (SVC) and Random Forest (RF)"
   ]
  },
  {
   "cell_type": "markdown",
   "id": "58cb1b52",
   "metadata": {},
   "source": [
    "### Splitting the Data into Training and Test Set"
   ]
  },
  {
   "cell_type": "code",
   "execution_count": null,
   "id": "32c0af6d",
   "metadata": {},
   "outputs": [],
   "source": [
    "x_train, x_test, y_train, y_test = train_test_split(x, y, test_size=0.20, random_state=0)"
   ]
  },
  {
   "cell_type": "markdown",
   "id": "ed282549",
   "metadata": {},
   "source": [
    "#### Since the features are molecular fingerprints, we do not use any preprocessing. Just dive directly into the model building\n",
    "\n",
    "#### Firstly, the best hyperparameters were tuned, and then some common performance measurements were computed\n",
    "#### A detailed report is given for the training and test sets here"
   ]
  },
  {
   "cell_type": "markdown",
   "id": "2f1dec21",
   "metadata": {},
   "source": [
    "## 1) Support Vector Classifier"
   ]
  },
  {
   "cell_type": "code",
   "execution_count": null,
   "id": "df8a7e08",
   "metadata": {},
   "outputs": [],
   "source": [
    "#svc.get_params()\n",
    "grid_svc = {\"C\": [0.1, 1, 10, 100, 1000],\n",
    "            'gamma': [1, 0.1, 0.01, 0.001, 0.0001],\n",
    "            'degree': [2,3,4] ,\n",
    "            \"kernel\": [\"linear\", \"poly\", \"rbf\", \"sigmoid\"]}\n",
    "\n",
    "svc_cv = GridSearchCV(SVC(random_state=0), grid_svc, verbose=True, cv=3)\n",
    "svc_cv.fit(x_train, y_train)\n",
    "\n",
    "ytrain_pred_svc = svc_cv.predict(x_train)\n",
    "ytest_pred_svc = svc_cv.predict(x_test)\n",
    "\n",
    "print(\"Best hiperparameters: {}\".format(svc_cv.best_params_))"
   ]
  },
  {
   "cell_type": "code",
   "execution_count": null,
   "id": "b1319ab4",
   "metadata": {},
   "outputs": [],
   "source": [
    "f1_score_svc = f1_score(y_test, ytest_pred_svc, average=\"macro\")\n",
    "precision_score_svc = precision_score(y_test, ytest_pred_svc, average=\"macro\")\n",
    "accuracy_score_svc = accuracy_score(y_test, ytest_pred_svc)\n",
    "recall_score_svc = recall_score(y_test, ytest_pred_svc, average=\"macro\")\n",
    "matthews_corrcoef_score_svc = matthews_corrcoef(y_test, ytest_pred_svc)\n",
    "\n",
    "cm_svc = confusion_matrix(y_test, ytest_pred_svc)\n",
    "sns.heatmap(cm_svc, annot=True, fmt=\".0f\", linewidths=1, square=True, cmap=\"Reds\")\n",
    "\n",
    "plt.ylabel(\"Actual Label\", color=\"black\")\n",
    "plt.xlabel(\"Predicted Label\", color=\"black\")\n",
    "plt.title(f\"F1: {f1_score_svc:.2f}\", size=14, color=\"black\")\n",
    "plt.show()"
   ]
  },
  {
   "cell_type": "code",
   "execution_count": null,
   "id": "4402a5f8",
   "metadata": {
    "scrolled": false
   },
   "outputs": [],
   "source": [
    "print(\"performance metrics for training\")\n",
    "print(classification_report(y_train, ytrain_pred_svc))\n",
    "\n",
    "# performance metrics for test    \n",
    "print(\"performance metrics for test\")\n",
    "print(classification_report(y_test, ytest_pred_svc))"
   ]
  },
  {
   "cell_type": "markdown",
   "id": "5e1cfa5f",
   "metadata": {},
   "source": [
    "## 2) Random Forest Classifier"
   ]
  },
  {
   "cell_type": "code",
   "execution_count": null,
   "id": "c8044f76",
   "metadata": {},
   "outputs": [],
   "source": [
    "grid_RF = {\"n_estimators\": np.arange(1, 120), 'max_features': [1, 20],\n",
    "           \"max_depth\": [1, 50, None], 'bootstrap': [True, False]}\n",
    "\n",
    "RF_cv = GridSearchCV(RandomForestClassifier(random_state=0), grid_RF, cv=3, verbose=1, scoring='neg_mean_squared_error')\n",
    "RF_cv.fit(x_train, y_train)\n",
    "\n",
    "ytrain_pred_RF = RF_cv.predict(x_train)\n",
    "ytest_pred_RF = RF_cv.predict(x_test)\n",
    "\n",
    "print(\"Best hiperparameters: {}\".format(RF_cv.best_params_))"
   ]
  },
  {
   "cell_type": "code",
   "execution_count": null,
   "id": "91fcad9f",
   "metadata": {},
   "outputs": [],
   "source": [
    "f1_score_RF = f1_score(y_test, ytest_pred_RF, average=\"macro\")\n",
    "precision_score_RF = precision_score(y_test, ytest_pred_RF, average=\"macro\")\n",
    "accuracy_score_RF = accuracy_score(y_test, ytest_pred_RF)\n",
    "recall_score_RF = recall_score(y_test, ytest_pred_RF, average=\"macro\")\n",
    "matthews_corrcoef_score_RF = matthews_corrcoef(y_test, ytest_pred_RF)\n",
    "\n",
    "cm_RF = confusion_matrix(y_test, ytest_pred_svc)\n",
    "sns.heatmap(cm_RF, annot=True, fmt=\".0f\", linewidths=1, square=True, cmap=\"Reds\")\n",
    "\n",
    "plt.ylabel(\"Actual Label\", color=\"black\")\n",
    "plt.xlabel(\"Predicted Label\", color=\"black\")\n",
    "plt.title(f\"F1: {f1_score_RF:.2f}\", size=14, color=\"black\")\n",
    "plt.show()"
   ]
  },
  {
   "cell_type": "code",
   "execution_count": null,
   "id": "46455af2",
   "metadata": {},
   "outputs": [],
   "source": [
    "print(\"performance metrics for training\")\n",
    "print(classification_report(y_train, ytrain_pred_RF))\n",
    "\n",
    "# performance metrics for test    \n",
    "print(\"performance metrics for test\")\n",
    "print(classification_report(y_test, ytest_pred_RF))"
   ]
  },
  {
   "cell_type": "markdown",
   "id": "32cc5538",
   "metadata": {},
   "source": [
    "## Dealing with Unbalanced Classes\n",
    "\n",
    "#### Here, the unbalance characteristic is considered, and SVC and RF are again employed to check the role of balancing the data"
   ]
  },
  {
   "cell_type": "code",
   "execution_count": null,
   "id": "193c0357",
   "metadata": {},
   "outputs": [],
   "source": [
    "sm = SMOTE(random_state=0)\n",
    "x_balanced, y_balanced = sm.fit_resample(x,y)"
   ]
  },
  {
   "cell_type": "code",
   "execution_count": null,
   "id": "13aef6bd",
   "metadata": {},
   "outputs": [],
   "source": [
    "x_balanced.shape"
   ]
  },
  {
   "cell_type": "code",
   "execution_count": null,
   "id": "5d9735b2",
   "metadata": {},
   "outputs": [],
   "source": [
    "y_balanced.shape"
   ]
  },
  {
   "cell_type": "code",
   "execution_count": null,
   "id": "19bf646e",
   "metadata": {},
   "outputs": [],
   "source": [
    "x_train_balanced, x_test_balanced, y_train_balanced, y_test_balanced = train_test_split(x_balanced, y_balanced, test_size=0.20, random_state=0)"
   ]
  },
  {
   "cell_type": "markdown",
   "id": "aeac009d",
   "metadata": {},
   "source": [
    "## 1B) Support Vector Classifier"
   ]
  },
  {
   "cell_type": "code",
   "execution_count": null,
   "id": "16c8bf38",
   "metadata": {},
   "outputs": [],
   "source": [
    "#svc.get_params()\n",
    "grid_svc_B = {\"C\": [0.1, 1, 10, 100, 1000],\n",
    "            'gamma': [1, 0.1, 0.01, 0.001, 0.0001],\n",
    "            'degree': [2,3,4] ,\n",
    "            \"kernel\": [\"linear\", \"poly\", \"rbf\", \"sigmoid\"]}\n",
    "\n",
    "svc_B_cv = GridSearchCV(SVC(random_state=0), grid_svc_B, verbose=True, cv=3)\n",
    "svc_B_cv.fit(x_train_balanced, y_train_balanced)\n",
    "\n",
    "ytrain_pred_svc_B = svc_B_cv.predict(x_train_balanced)\n",
    "ytest_pred_svc_B = svc_B_cv.predict(x_test_balanced)\n",
    "\n",
    "print(\"Best hiperparameters: {}\".format(svc_B_cv.best_params_))"
   ]
  },
  {
   "cell_type": "code",
   "execution_count": null,
   "id": "d3954c86",
   "metadata": {},
   "outputs": [],
   "source": [
    "f1_score_svc_B = f1_score(y_test_balanced, ytest_pred_svc_B, average=\"macro\")\n",
    "precision_score_svc_B = precision_score(y_test_balanced, ytest_pred_svc_B, average=\"macro\")\n",
    "accuracy_score_svc_B = accuracy_score(y_test_balanced, ytest_pred_svc_B)\n",
    "recall_score_svc_B = recall_score(y_test_balanced, ytest_pred_svc_B, average=\"macro\")\n",
    "matthews_corrcoef_score_svc_B = matthews_corrcoef(y_test_balanced, ytest_pred_svc_B)\n",
    "\n",
    "cm_svc_B = confusion_matrix(y_test_balanced, ytest_pred_svc_B)\n",
    "sns.heatmap(cm_svc_B, annot=True, fmt=\".0f\", linewidths=1, square=True, cmap=\"Reds\")\n",
    "\n",
    "plt.ylabel(\"Actual Label\", color=\"black\")\n",
    "plt.xlabel(\"Predicted Label\", color=\"black\")\n",
    "plt.title(f\"F1: {f1_score_svc_B:.2f}\", size=14, color=\"black\")\n",
    "plt.show()"
   ]
  },
  {
   "cell_type": "code",
   "execution_count": null,
   "id": "69c3b858",
   "metadata": {},
   "outputs": [],
   "source": [
    "print(\"performance metrics for training\")\n",
    "print(classification_report(y_train_balanced, ytrain_pred_svc_B))\n",
    "\n",
    "# performance metrics for test    \n",
    "print(\"performance metrics for test\")\n",
    "print(classification_report(y_test_balanced, ytest_pred_svc_B))"
   ]
  },
  {
   "cell_type": "markdown",
   "id": "731991e2",
   "metadata": {},
   "source": [
    "## 2B) Random Forest Classifier"
   ]
  },
  {
   "cell_type": "code",
   "execution_count": null,
   "id": "24451910",
   "metadata": {},
   "outputs": [],
   "source": [
    "grid_RF_B = {\"n_estimators\": np.arange(1, 120), 'max_features': [1, 20],\n",
    "           \"max_depth\": [1, 50, None], 'bootstrap': [True, False]}\n",
    "\n",
    "RF_cv_B = GridSearchCV(RandomForestClassifier(random_state=0), grid_RF_B, cv=3, verbose=1, scoring='neg_mean_squared_error')\n",
    "RF_cv_B.fit(x_train_balanced, y_train_balanced)\n",
    "\n",
    "ytrain_pred_RF_B = RF_cv.predict(x_train_balanced)\n",
    "ytest_pred_RF_B = RF_cv.predict(x_test_balanced)\n",
    "\n",
    "print(\"Best hiperparameters: {}\".format(RF_cv.best_params_))"
   ]
  },
  {
   "cell_type": "code",
   "execution_count": null,
   "id": "1da8f560",
   "metadata": {},
   "outputs": [],
   "source": [
    "f1_score_RF_B = f1_score(y_test_balanced, ytest_pred_RF_B, average=\"macro\")\n",
    "precision_score_RF_B = precision_score(y_test_balanced, ytest_pred_RF_B, average=\"macro\")\n",
    "accuracy_score_RF_B = accuracy_score(y_test_balanced, ytest_pred_RF_B)\n",
    "recall_score_RF_B = recall_score(y_test_balanced, ytest_pred_RF_B, average=\"macro\")\n",
    "matthews_corrcoef_score_RF_B = matthews_corrcoef(y_test_balanced, ytest_pred_RF_B)\n",
    "\n",
    "cm_RF_B = confusion_matrix(y_test_balanced, ytest_pred_RF_B)\n",
    "sns.heatmap(cm_RF_B, annot=True, fmt=\".0f\", linewidths=1, square=True, cmap=\"Reds\")\n",
    "\n",
    "plt.ylabel(\"Actual Label\", color=\"black\")\n",
    "plt.xlabel(\"Predicted Label\", color=\"black\")\n",
    "plt.title(f\"F1: {f1_score_RF_B:.2f}\", size=14, color=\"black\")\n",
    "plt.show()"
   ]
  },
  {
   "cell_type": "code",
   "execution_count": null,
   "id": "ea77f0f3",
   "metadata": {},
   "outputs": [],
   "source": [
    "print(\"performance metrics for training\")\n",
    "print(classification_report(y_train_balanced, ytrain_pred_RF_B))\n",
    "\n",
    "# performance metrics for test    \n",
    "print(\"performance metrics for test\")\n",
    "print(classification_report(y_test_balanced, ytest_pred_RF_B))"
   ]
  },
  {
   "cell_type": "markdown",
   "id": "9d821367",
   "metadata": {},
   "source": [
    "#### Both balanced models were compared in the following cell\n",
    "#### It is possible to see that SVC has a superior performance in this case"
   ]
  },
  {
   "cell_type": "code",
   "execution_count": null,
   "id": "7076f411",
   "metadata": {},
   "outputs": [],
   "source": [
    "models = pd.DataFrame([\"Support Vector Classifier\", \"Random Forest Classifier\"])\n",
    "\n",
    "f1 = pd.DataFrame([f1_score_svc_B, f1_score_RF_B])\n",
    "\n",
    "precision = pd.DataFrame([precision_score_svc, precision_score_RF_B])\n",
    "\n",
    "accuracy = pd.DataFrame([accuracy_score_svc_B, accuracy_score_RF_B])\n",
    "\n",
    "recall = pd.DataFrame([recall_score_svc_B, recall_score_RF_B])\n",
    "\n",
    "matthews = pd.DataFrame([matthews_corrcoef_score_svc_B, matthews_corrcoef_score_RF_B])\n",
    "\n",
    "df2 = pd.concat([models, f1, precision, accuracy, recall, matthews], axis=1)\n",
    "df2.columns = [\"Algorithm\", \"F1\", \"Precision\", \"Accuracy\", \"Recall\", \"Matthews\"]\n",
    "\n",
    "df2.style.highlight_max(subset=[\"F1\", \"Precision\", \"Accuracy\", \"Recall\", \"Matthews\"], color=\"#01AEB5\")"
   ]
  },
  {
   "cell_type": "code",
   "execution_count": null,
   "id": "56b27fd7",
   "metadata": {},
   "outputs": [],
   "source": []
  }
 ],
 "metadata": {
  "kernelspec": {
   "display_name": "Python 3 (ipykernel)",
   "language": "python",
   "name": "python3"
  },
  "language_info": {
   "codemirror_mode": {
    "name": "ipython",
    "version": 3
   },
   "file_extension": ".py",
   "mimetype": "text/x-python",
   "name": "python",
   "nbconvert_exporter": "python",
   "pygments_lexer": "ipython3",
   "version": "3.9.13"
  }
 },
 "nbformat": 4,
 "nbformat_minor": 5
}
