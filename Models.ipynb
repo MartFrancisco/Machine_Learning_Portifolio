{
 "cells": [
  {
   "cell_type": "markdown",
   "id": "2843f82d",
   "metadata": {},
   "source": [
    "## Essential Packages"
   ]
  },
  {
   "cell_type": "code",
   "execution_count": 20,
   "id": "174292ef",
   "metadata": {},
   "outputs": [],
   "source": [
    "import numpy as np\n",
    "import pandas as pd\n",
    "import matplotlib.pyplot as plt\n",
    "%matplotlib inline\n",
    "import seaborn as sns\n",
    "\n",
    "from imblearn.over_sampling import SMOTE\n",
    "from sklearn.preprocessing import StandardScaler\n",
    "\n",
    "from sklearn.linear_model import LogisticRegression\n",
    "from sklearn.svm import SVC\n",
    "from sklearn.neighbors import KNeighborsClassifier\n",
    "from sklearn import tree\n",
    "from sklearn.ensemble import RandomForestClassifier\n",
    "\n",
    "from sklearn.metrics import (accuracy_score, classification_report,\n",
    "                             confusion_matrix, f1_score, \n",
    "                             precision_score, recall_score)\n",
    "\n",
    "from sklearn.model_selection import  train_test_split, GridSearchCV, cross_val_score\n",
    "\n",
    "import warnings\n",
    "warnings.filterwarnings(\"ignore\")"
   ]
  },
  {
   "cell_type": "markdown",
   "id": "894c63ec",
   "metadata": {},
   "source": [
    "## Loading the Dataset"
   ]
  },
  {
   "cell_type": "code",
   "execution_count": 22,
   "id": "9d80ca16",
   "metadata": {},
   "outputs": [
    {
     "data": {
      "text/html": [
       "<div>\n",
       "<style scoped>\n",
       "    .dataframe tbody tr th:only-of-type {\n",
       "        vertical-align: middle;\n",
       "    }\n",
       "\n",
       "    .dataframe tbody tr th {\n",
       "        vertical-align: top;\n",
       "    }\n",
       "\n",
       "    .dataframe thead th {\n",
       "        text-align: right;\n",
       "    }\n",
       "</style>\n",
       "<table border=\"1\" class=\"dataframe\">\n",
       "  <thead>\n",
       "    <tr style=\"text-align: right;\">\n",
       "      <th></th>\n",
       "      <th>ID</th>\n",
       "      <th>RI</th>\n",
       "      <th>Na2O</th>\n",
       "      <th>MgO</th>\n",
       "      <th>Al2O3</th>\n",
       "      <th>SiO2</th>\n",
       "      <th>K2O</th>\n",
       "      <th>CaO</th>\n",
       "      <th>BaO</th>\n",
       "      <th>Fe2O3</th>\n",
       "      <th>Type</th>\n",
       "    </tr>\n",
       "  </thead>\n",
       "  <tbody>\n",
       "    <tr>\n",
       "      <th>0</th>\n",
       "      <td>1</td>\n",
       "      <td>1.52101</td>\n",
       "      <td>13.64</td>\n",
       "      <td>4.49</td>\n",
       "      <td>1.10</td>\n",
       "      <td>71.78</td>\n",
       "      <td>0.06</td>\n",
       "      <td>8.75</td>\n",
       "      <td>0.0</td>\n",
       "      <td>0.00</td>\n",
       "      <td>1</td>\n",
       "    </tr>\n",
       "    <tr>\n",
       "      <th>1</th>\n",
       "      <td>2</td>\n",
       "      <td>1.51761</td>\n",
       "      <td>13.89</td>\n",
       "      <td>3.60</td>\n",
       "      <td>1.36</td>\n",
       "      <td>72.73</td>\n",
       "      <td>0.48</td>\n",
       "      <td>7.83</td>\n",
       "      <td>0.0</td>\n",
       "      <td>0.00</td>\n",
       "      <td>1</td>\n",
       "    </tr>\n",
       "    <tr>\n",
       "      <th>2</th>\n",
       "      <td>3</td>\n",
       "      <td>1.51618</td>\n",
       "      <td>13.53</td>\n",
       "      <td>3.55</td>\n",
       "      <td>1.54</td>\n",
       "      <td>72.99</td>\n",
       "      <td>0.39</td>\n",
       "      <td>7.78</td>\n",
       "      <td>0.0</td>\n",
       "      <td>0.00</td>\n",
       "      <td>1</td>\n",
       "    </tr>\n",
       "    <tr>\n",
       "      <th>3</th>\n",
       "      <td>4</td>\n",
       "      <td>1.51766</td>\n",
       "      <td>13.21</td>\n",
       "      <td>3.69</td>\n",
       "      <td>1.29</td>\n",
       "      <td>72.61</td>\n",
       "      <td>0.57</td>\n",
       "      <td>8.22</td>\n",
       "      <td>0.0</td>\n",
       "      <td>0.00</td>\n",
       "      <td>1</td>\n",
       "    </tr>\n",
       "    <tr>\n",
       "      <th>4</th>\n",
       "      <td>5</td>\n",
       "      <td>1.51742</td>\n",
       "      <td>13.27</td>\n",
       "      <td>3.62</td>\n",
       "      <td>1.24</td>\n",
       "      <td>73.08</td>\n",
       "      <td>0.55</td>\n",
       "      <td>8.07</td>\n",
       "      <td>0.0</td>\n",
       "      <td>0.00</td>\n",
       "      <td>1</td>\n",
       "    </tr>\n",
       "    <tr>\n",
       "      <th>5</th>\n",
       "      <td>6</td>\n",
       "      <td>1.51596</td>\n",
       "      <td>12.79</td>\n",
       "      <td>3.61</td>\n",
       "      <td>1.62</td>\n",
       "      <td>72.97</td>\n",
       "      <td>0.64</td>\n",
       "      <td>8.07</td>\n",
       "      <td>0.0</td>\n",
       "      <td>0.26</td>\n",
       "      <td>1</td>\n",
       "    </tr>\n",
       "    <tr>\n",
       "      <th>6</th>\n",
       "      <td>7</td>\n",
       "      <td>1.51743</td>\n",
       "      <td>13.30</td>\n",
       "      <td>3.60</td>\n",
       "      <td>1.14</td>\n",
       "      <td>73.09</td>\n",
       "      <td>0.58</td>\n",
       "      <td>8.17</td>\n",
       "      <td>0.0</td>\n",
       "      <td>0.00</td>\n",
       "      <td>1</td>\n",
       "    </tr>\n",
       "    <tr>\n",
       "      <th>7</th>\n",
       "      <td>8</td>\n",
       "      <td>1.51756</td>\n",
       "      <td>13.15</td>\n",
       "      <td>3.61</td>\n",
       "      <td>1.05</td>\n",
       "      <td>73.24</td>\n",
       "      <td>0.57</td>\n",
       "      <td>8.24</td>\n",
       "      <td>0.0</td>\n",
       "      <td>0.00</td>\n",
       "      <td>1</td>\n",
       "    </tr>\n",
       "    <tr>\n",
       "      <th>8</th>\n",
       "      <td>9</td>\n",
       "      <td>1.51918</td>\n",
       "      <td>14.04</td>\n",
       "      <td>3.58</td>\n",
       "      <td>1.37</td>\n",
       "      <td>72.08</td>\n",
       "      <td>0.56</td>\n",
       "      <td>8.30</td>\n",
       "      <td>0.0</td>\n",
       "      <td>0.00</td>\n",
       "      <td>1</td>\n",
       "    </tr>\n",
       "    <tr>\n",
       "      <th>9</th>\n",
       "      <td>10</td>\n",
       "      <td>1.51755</td>\n",
       "      <td>13.00</td>\n",
       "      <td>3.60</td>\n",
       "      <td>1.36</td>\n",
       "      <td>72.99</td>\n",
       "      <td>0.57</td>\n",
       "      <td>8.40</td>\n",
       "      <td>0.0</td>\n",
       "      <td>0.11</td>\n",
       "      <td>1</td>\n",
       "    </tr>\n",
       "  </tbody>\n",
       "</table>\n",
       "</div>"
      ],
      "text/plain": [
       "   ID       RI   Na2O   MgO  Al2O3   SiO2   K2O   CaO  BaO  Fe2O3  Type\n",
       "0   1  1.52101  13.64  4.49   1.10  71.78  0.06  8.75  0.0   0.00     1\n",
       "1   2  1.51761  13.89  3.60   1.36  72.73  0.48  7.83  0.0   0.00     1\n",
       "2   3  1.51618  13.53  3.55   1.54  72.99  0.39  7.78  0.0   0.00     1\n",
       "3   4  1.51766  13.21  3.69   1.29  72.61  0.57  8.22  0.0   0.00     1\n",
       "4   5  1.51742  13.27  3.62   1.24  73.08  0.55  8.07  0.0   0.00     1\n",
       "5   6  1.51596  12.79  3.61   1.62  72.97  0.64  8.07  0.0   0.26     1\n",
       "6   7  1.51743  13.30  3.60   1.14  73.09  0.58  8.17  0.0   0.00     1\n",
       "7   8  1.51756  13.15  3.61   1.05  73.24  0.57  8.24  0.0   0.00     1\n",
       "8   9  1.51918  14.04  3.58   1.37  72.08  0.56  8.30  0.0   0.00     1\n",
       "9  10  1.51755  13.00  3.60   1.36  72.99  0.57  8.40  0.0   0.11     1"
      ]
     },
     "execution_count": 22,
     "metadata": {},
     "output_type": "execute_result"
    }
   ],
   "source": [
    "df = pd.read_csv('glass.csv', header = None, names = [\"ID\", \"RI\", \"Na2O\",\n",
    "                                                      \"MgO\", \"Al2O3\", \"SiO2\",\n",
    "                                                      \"K2O\", \"CaO\", \"BaO\",\n",
    "                                                      \"Fe2O3\",\"Type\"])\n",
    "df.head(10)"
   ]
  },
  {
   "cell_type": "markdown",
   "id": "4c3bb9d6",
   "metadata": {},
   "source": [
    "## Split the dataset into features and target"
   ]
  },
  {
   "cell_type": "code",
   "execution_count": 24,
   "id": "72e66d1e",
   "metadata": {},
   "outputs": [],
   "source": [
    "x = df.loc[:, df.columns[1:10]]\n",
    "y = df[\"Type\"]"
   ]
  },
  {
   "cell_type": "markdown",
   "id": "1653f9bd",
   "metadata": {},
   "source": [
    "#### The data is imbalanced since we observed classes with very high frequency while others have lower frequency.\n",
    "#### We can address this issue using SMOTE (Synthetic Minority Oversampling Technique)"
   ]
  },
  {
   "cell_type": "code",
   "execution_count": 25,
   "id": "c920aaad",
   "metadata": {},
   "outputs": [],
   "source": [
    "sm = SMOTE(random_state=0)\n",
    "x, y = sm.fit_resample(x, y)"
   ]
  },
  {
   "cell_type": "markdown",
   "id": "cdfb6399",
   "metadata": {},
   "source": [
    "## Split the Data into Train and Test "
   ]
  },
  {
   "cell_type": "code",
   "execution_count": 26,
   "id": "fc16836f",
   "metadata": {},
   "outputs": [],
   "source": [
    "x_train, x_test, y_train, y_test = train_test_split(x, y, stratify=y, test_size=0.2, random_state=0)"
   ]
  },
  {
   "cell_type": "markdown",
   "id": "e25a3c23",
   "metadata": {},
   "source": [
    "## Pre Process the Data"
   ]
  },
  {
   "cell_type": "code",
   "execution_count": 27,
   "id": "e0a3d87f",
   "metadata": {},
   "outputs": [],
   "source": [
    "scaler = StandardScaler()\n",
    "x_train_scaled = scaler.fit_transform(x_train)\n",
    "x_test_scaled = scaler.fit_transform(x_test)"
   ]
  },
  {
   "cell_type": "markdown",
   "id": "8fa695e4",
   "metadata": {},
   "source": [
    "# Building Different Models"
   ]
  },
  {
   "cell_type": "markdown",
   "id": "35479b66",
   "metadata": {},
   "source": [
    "### 1) Logistic Regression"
   ]
  },
  {
   "cell_type": "code",
   "execution_count": 31,
   "id": "09efd54e",
   "metadata": {},
   "outputs": [
    {
     "data": {
      "image/png": "[encoded data removed]",
      "text/plain": [
       "<Figure size 640x480 with 2 Axes>"
      ]
     },
     "metadata": {},
     "output_type": "display_data"
    },
    {
     "name": "stdout",
     "output_type": "stream",
     "text": [
      "Train Score: 0.843\n",
      "Test Score:  0.728\n"
     ]
    }
   ],
   "source": [
    "LR = LogisticRegression(random_state=0).fit(x_train_scaled, y_train)\n",
    "\n",
    "y_pred_LR = LR.predict(x_test_scaled)\n",
    "\n",
    "f1_score_LR = f1_score(y_test, y_pred_LR, average=\"macro\")\n",
    "precision_score_LR = precision_score(y_test, y_pred_LR, average=\"macro\")\n",
    "accuracy_score_LR = accuracy_score(y_test, y_pred_LR)\n",
    "recall_score_LR = recall_score(y_test, y_pred_LR, average=\"macro\")\n",
    "\n",
    "cm_LR = confusion_matrix(y_test, y_pred_LR)\n",
    "sns.heatmap(cm_LR, annot=True, fmt=\".0f\", linewidths=1, square=True, cmap=\"Reds\")\n",
    "\n",
    "plt.ylabel(\"Actual Label\", color=\"black\")\n",
    "plt.xlabel(\"Predicted Label\", color=\"black\")\n",
    "plt.title(f\"F1: {f1_score_LR:.2f}\", size=14, color=\"black\")\n",
    "plt.show()\n",
    "\n",
    "print(\"Train Score: {0:.3f}\\nTest Score: {1: .3}\".format(LR.score(x_train_scaled, y_train), LR.score(x_test_scaled, y_test)))"
   ]
  },
  {
   "cell_type": "markdown",
   "id": "96a64433",
   "metadata": {},
   "source": [
    "### 2) Support Vector Classifier"
   ]
  },
  {
   "cell_type": "code",
   "execution_count": 8,
   "id": "56573881",
   "metadata": {},
   "outputs": [
    {
     "data": {
      "image/png": "[encoded data removed]",
      "text/plain": [
       "<Figure size 640x480 with 2 Axes>"
      ]
     },
     "metadata": {},
     "output_type": "display_data"
    },
    {
     "name": "stdout",
     "output_type": "stream",
     "text": [
      "Train Score: 0.890\n",
      "Test Score:  0.826\n"
     ]
    }
   ],
   "source": [
    "svc = SVC().fit(x_train_scaled, y_train)\n",
    "\n",
    "y_pred_svc = svc.predict(x_test_scaled)\n",
    "\n",
    "f1_score_svc = f1_score(y_test, y_pred_svc, average=\"macro\")\n",
    "precision_score_svc = precision_score(y_test, y_pred_svc, average=\"macro\")\n",
    "accuracy_score_svc = accuracy_score(y_test, y_pred_svc)\n",
    "recall_score_svc = recall_score(y_test, y_pred_svc, average=\"macro\")\n",
    "\n",
    "cm_svc = confusion_matrix(y_test, y_pred_svc)\n",
    "sns.heatmap(cm_svc, annot=True, fmt=\".0f\", linewidths=1, square=True, cmap=\"Reds\")\n",
    "\n",
    "plt.ylabel(\"Actual Label\", color=\"black\")\n",
    "plt.xlabel(\"Predicted Label\", color=\"black\")\n",
    "plt.title(f\"F1: {f1_score_svc:.2f}\", size=14, color=\"black\")\n",
    "plt.show()\n",
    "\n",
    "print(\"Train Score: {0:.3f}\\nTest Score: {1: .3}\".format(svc.score(x_train_scaled, y_train), svc.score(x_test_scaled, y_test)))"
   ]
  },
  {
   "cell_type": "markdown",
   "id": "456310bb",
   "metadata": {},
   "source": [
    "### 3) K-Nearest Neighbors"
   ]
  },
  {
   "cell_type": "code",
   "execution_count": 9,
   "id": "acc79be9",
   "metadata": {},
   "outputs": [
    {
     "data": {
      "image/png": "[encoded data removed]",
      "text/plain": [
       "<Figure size 640x480 with 2 Axes>"
      ]
     },
     "metadata": {},
     "output_type": "display_data"
    },
    {
     "name": "stdout",
     "output_type": "stream",
     "text": [
      "Train Score: 0.893\n",
      "Test Score:  0.815\n"
     ]
    }
   ],
   "source": [
    "knn = KNeighborsClassifier().fit(x_train_scaled, y_train)\n",
    "\n",
    "y_pred_knn = knn.predict(x_test_scaled)\n",
    "\n",
    "f1_score_knn = f1_score(y_test,y_pred_knn, average=\"macro\")\n",
    "precision_score_knn = precision_score(y_test, y_pred_knn, average=\"macro\")\n",
    "accuracy_score_knn = accuracy_score(y_test, y_pred_knn)\n",
    "recall_score_knn = recall_score(y_test, y_pred_knn, average=\"macro\")\n",
    "\n",
    "cm_knn = confusion_matrix(y_test, y_pred_knn)\n",
    "sns.heatmap(cm_knn, annot=True, fmt=\".0f\", linewidths=1, square=True, cmap=\"Reds\")\n",
    "\n",
    "plt.ylabel(\"Actual Label\", color=\"black\")\n",
    "plt.xlabel(\"Predicted Label\", color=\"black\")\n",
    "plt.title(f\"F1: {f1_score_knn:.2f}\", size=14, color=\"black\")\n",
    "plt.show()\n",
    "\n",
    "print(\"Train Score: {0:.3f}\\nTest Score: {1: .3}\".format(knn.score(x_train_scaled, y_train), knn.score(x_test_scaled, y_test)))"
   ]
  },
  {
   "cell_type": "markdown",
   "id": "94a9676f",
   "metadata": {},
   "source": [
    "### 4) Decision Tree"
   ]
  },
  {
   "cell_type": "code",
   "execution_count": 10,
   "id": "abfe91f8",
   "metadata": {},
   "outputs": [
    {
     "data": {
      "image/png": "[encoded data removed]",
      "text/plain": [
       "<Figure size 640x480 with 2 Axes>"
      ]
     },
     "metadata": {},
     "output_type": "display_data"
    },
    {
     "name": "stdout",
     "output_type": "stream",
     "text": [
      "Train Score: 1.000\n",
      "Test Score:  0.826\n"
     ]
    }
   ],
   "source": [
    "DT = tree.DecisionTreeClassifier().fit(x_train_scaled, y_train)\n",
    "\n",
    "y_pred_DT = DT.predict(x_test_scaled)\n",
    "\n",
    "f1_score_DT = f1_score(y_test, y_pred_DT, average=\"macro\")\n",
    "precision_score_DT = precision_score(y_test, y_pred_DT, average=\"macro\")\n",
    "accuracy_score_DT = accuracy_score(y_test, y_pred_DT)\n",
    "recall_score_DT = recall_score(y_test, y_pred_DT, average=\"macro\")\n",
    "\n",
    "cm_DT = confusion_matrix(y_test, y_pred_DT)\n",
    "sns.heatmap(cm_DT, annot=True, fmt=\".0f\", linewidths=1, square=True, cmap=\"Reds\")\n",
    "\n",
    "plt.ylabel(\"Actual Label\")\n",
    "plt.xlabel(\"Predicted Label\")\n",
    "plt.title(f\"F1 Score: {f1_score_DT:.2f}\", size=14, color=\"black\")\n",
    "plt.show()\n",
    "\n",
    "print(\"Train Score: {0:.3f}\\nTest Score: {1: .3}\".format(DT.score(x_train_scaled, y_train), DT.score(x_test_scaled, y_test)))"
   ]
  },
  {
   "cell_type": "markdown",
   "id": "4d08a587",
   "metadata": {},
   "source": [
    "### 5) Random Forest"
   ]
  },
  {
   "cell_type": "code",
   "execution_count": 11,
   "id": "357fa47a",
   "metadata": {},
   "outputs": [
    {
     "data": {
      "image/png": "[encoded data removed]",
      "text/plain": [
       "<Figure size 640x480 with 2 Axes>"
      ]
     },
     "metadata": {},
     "output_type": "display_data"
    },
    {
     "name": "stdout",
     "output_type": "stream",
     "text": [
      "Train Score: 1.000\n",
      "Test Score:  0.891\n"
     ]
    }
   ],
   "source": [
    "RF = RandomForestClassifier().fit(x_train_scaled, y_train)\n",
    "\n",
    "y_pred_RF = RF.predict(x_test_scaled)\n",
    "\n",
    "f1_score_RF = f1_score(y_test, y_pred_RF, average=\"macro\")\n",
    "precision_score_RF = precision_score(y_test, y_pred_RF, average=\"macro\")\n",
    "accuracy_score_RF = accuracy_score(y_test, y_pred_RF)\n",
    "recall_score_RF = recall_score(y_test, y_pred_RF, average=\"macro\")\n",
    "\n",
    "cm_RF = confusion_matrix(y_test, y_pred_RF)\n",
    "sns.heatmap(cm_RF, annot=True, fmt=\".0f\", linewidths=1, square=True, cmap=\"Reds\")\n",
    "\n",
    "plt.ylabel(\"Actual Label\")\n",
    "plt.xlabel(\"Predicted Label\")\n",
    "plt.title(f\"F1 Score: {f1_score_RF:.2f}\", size=14, color=\"black\")\n",
    "plt.show()\n",
    "\n",
    "print(\"Train Score: {0:.3f}\\nTest Score: {1: .3}\".format(RF.score(x_train_scaled, y_train), RF.score(x_test_scaled, y_test)))"
   ]
  },
  {
   "cell_type": "markdown",
   "id": "f7ad56cf",
   "metadata": {},
   "source": [
    "## Performance Measurements"
   ]
  },
  {
   "cell_type": "code",
   "execution_count": 33,
   "id": "2fd2f1d9",
   "metadata": {},
   "outputs": [
    {
     "name": "stdout",
     "output_type": "stream",
     "text": [
      "-------------------------------------------------------\n",
      "Logistic Regression Report\n",
      "\n",
      "              precision    recall  f1-score   support\n",
      "\n",
      "           1       0.60      0.56      0.58        16\n",
      "           2       0.36      0.27      0.31        15\n",
      "           3       0.62      0.67      0.65        15\n",
      "           5       0.78      0.93      0.85        15\n",
      "           6       0.94      1.00      0.97        16\n",
      "           7       0.93      0.93      0.93        15\n",
      "\n",
      "    accuracy                           0.73        92\n",
      "   macro avg       0.71      0.73      0.71        92\n",
      "weighted avg       0.71      0.73      0.72        92\n",
      "\n",
      "-------------------------------------------------------\n",
      "Support Vector Classifier Report\n",
      "\n",
      "              precision    recall  f1-score   support\n",
      "\n",
      "           1       0.65      0.69      0.67        16\n",
      "           2       0.70      0.47      0.56        15\n",
      "           3       0.76      0.87      0.81        15\n",
      "           5       0.88      0.93      0.90        15\n",
      "           6       1.00      1.00      1.00        16\n",
      "           7       0.94      1.00      0.97        15\n",
      "\n",
      "    accuracy                           0.83        92\n",
      "   macro avg       0.82      0.83      0.82        92\n",
      "weighted avg       0.82      0.83      0.82        92\n",
      "\n",
      "-------------------------------------------------------\n",
      "K-Nearest Neighbors Report\n",
      "\n",
      "              precision    recall  f1-score   support\n",
      "\n",
      "           1       0.69      0.69      0.69        16\n",
      "           2       0.70      0.47      0.56        15\n",
      "           3       0.78      0.93      0.85        15\n",
      "           5       0.81      0.87      0.84        15\n",
      "           6       1.00      1.00      1.00        16\n",
      "           7       0.88      0.93      0.90        15\n",
      "\n",
      "    accuracy                           0.82        92\n",
      "   macro avg       0.81      0.81      0.81        92\n",
      "weighted avg       0.81      0.82      0.81        92\n",
      "\n",
      "-------------------------------------------------------\n",
      "Decision Tree Report\n",
      "\n",
      "              precision    recall  f1-score   support\n",
      "\n",
      "           1       0.76      0.81      0.79        16\n",
      "           2       0.62      0.33      0.43        15\n",
      "           3       0.74      0.93      0.82        15\n",
      "           5       0.82      0.93      0.87        15\n",
      "           6       1.00      1.00      1.00        16\n",
      "           7       0.93      0.93      0.93        15\n",
      "\n",
      "    accuracy                           0.83        92\n",
      "   macro avg       0.81      0.82      0.81        92\n",
      "weighted avg       0.82      0.83      0.81        92\n",
      "\n",
      "-------------------------------------------------------\n",
      "Random Forest Report\n",
      "\n",
      "              precision    recall  f1-score   support\n",
      "\n",
      "           1       0.93      0.81      0.87        16\n",
      "           2       0.82      0.60      0.69        15\n",
      "           3       0.83      1.00      0.91        15\n",
      "           5       0.82      0.93      0.87        15\n",
      "           6       1.00      1.00      1.00        16\n",
      "           7       0.94      1.00      0.97        15\n",
      "\n",
      "    accuracy                           0.89        92\n",
      "   macro avg       0.89      0.89      0.89        92\n",
      "weighted avg       0.89      0.89      0.89        92\n",
      "\n",
      "-------------------------------------------------------\n"
     ]
    }
   ],
   "source": [
    "print(\"-\"*55)\n",
    "print(\"Logistic Regression Report\\n\")\n",
    "print(classification_report(y_test, y_pred_LR))\n",
    "print(\"-\"*55)\n",
    "\n",
    "print(\"Support Vector Classifier Report\\n\")\n",
    "print(classification_report(y_test, y_pred_svc))\n",
    "print(\"-\"*55)\n",
    "\n",
    "print(\"K-Nearest Neighbors Report\\n\")\n",
    "print(classification_report(y_test, y_pred_knn))\n",
    "print(\"-\"*55)\n",
    "\n",
    "print(\"Decision Tree Report\\n\")\n",
    "print(classification_report(y_test, y_pred_DT))\n",
    "print(\"-\"*55)\n",
    "\n",
    "print(\"Random Forest Report\\n\")\n",
    "print(classification_report(y_test, y_pred_RF))\n",
    "print(\"-\"*55)"
   ]
  },
  {
   "cell_type": "markdown",
   "id": "2b88cdfc",
   "metadata": {},
   "source": [
    "## Highlight the Best Models for each Performance Measurement"
   ]
  },
  {
   "cell_type": "code",
   "execution_count": 34,
   "id": "527b51e2",
   "metadata": {},
   "outputs": [
    {
     "data": {
      "text/html": [
       "<style type=\"text/css\">\n",
       "#T_e6ca1_row4_col1, #T_e6ca1_row4_col2, #T_e6ca1_row4_col3, #T_e6ca1_row4_col4 {\n",
       "  background-color: #01AEB5;\n",
       "}\n",
       "</style>\n",
       "<table id=\"T_e6ca1\">\n",
       "  <thead>\n",
       "    <tr>\n",
       "      <th class=\"blank level0\" >&nbsp;</th>\n",
       "      <th id=\"T_e6ca1_level0_col0\" class=\"col_heading level0 col0\" >Algorithm</th>\n",
       "      <th id=\"T_e6ca1_level0_col1\" class=\"col_heading level0 col1\" >F1</th>\n",
       "      <th id=\"T_e6ca1_level0_col2\" class=\"col_heading level0 col2\" >Precision</th>\n",
       "      <th id=\"T_e6ca1_level0_col3\" class=\"col_heading level0 col3\" >Accuracy</th>\n",
       "      <th id=\"T_e6ca1_level0_col4\" class=\"col_heading level0 col4\" >Recall</th>\n",
       "    </tr>\n",
       "  </thead>\n",
       "  <tbody>\n",
       "    <tr>\n",
       "      <th id=\"T_e6ca1_level0_row0\" class=\"row_heading level0 row0\" >0</th>\n",
       "      <td id=\"T_e6ca1_row0_col0\" class=\"data row0 col0\" >Logistic Regression</td>\n",
       "      <td id=\"T_e6ca1_row0_col1\" class=\"data row0 col1\" >0.714169</td>\n",
       "      <td id=\"T_e6ca1_row0_col2\" class=\"data row0 col2\" >0.706821</td>\n",
       "      <td id=\"T_e6ca1_row0_col3\" class=\"data row0 col3\" >0.728261</td>\n",
       "      <td id=\"T_e6ca1_row0_col4\" class=\"data row0 col4\" >0.727083</td>\n",
       "    </tr>\n",
       "    <tr>\n",
       "      <th id=\"T_e6ca1_level0_row1\" class=\"row_heading level0 row1\" >1</th>\n",
       "      <td id=\"T_e6ca1_row1_col0\" class=\"data row1 col0\" >Support Vector Classifier</td>\n",
       "      <td id=\"T_e6ca1_row1_col1\" class=\"data row1 col1\" >0.818356</td>\n",
       "      <td id=\"T_e6ca1_row1_col2\" class=\"data row1 col2\" >0.820711</td>\n",
       "      <td id=\"T_e6ca1_row1_col3\" class=\"data row1 col3\" >0.826087</td>\n",
       "      <td id=\"T_e6ca1_row1_col4\" class=\"data row1 col4\" >0.825694</td>\n",
       "    </tr>\n",
       "    <tr>\n",
       "      <th id=\"T_e6ca1_level0_row2\" class=\"row_heading level0 row2\" >2</th>\n",
       "      <td id=\"T_e6ca1_row2_col0\" class=\"data row2 col0\" >K-Nearest Neighbors</td>\n",
       "      <td id=\"T_e6ca1_row2_col1\" class=\"data row2 col1\" >0.806320</td>\n",
       "      <td id=\"T_e6ca1_row2_col2\" class=\"data row2 col2\" >0.808796</td>\n",
       "      <td id=\"T_e6ca1_row2_col3\" class=\"data row2 col3\" >0.815217</td>\n",
       "      <td id=\"T_e6ca1_row2_col4\" class=\"data row2 col4\" >0.814583</td>\n",
       "    </tr>\n",
       "    <tr>\n",
       "      <th id=\"T_e6ca1_level0_row3\" class=\"row_heading level0 row3\" >3</th>\n",
       "      <td id=\"T_e6ca1_row3_col0\" class=\"data row3 col0\" >Decision Tree</td>\n",
       "      <td id=\"T_e6ca1_row3_col1\" class=\"data row3 col1\" >0.809087</td>\n",
       "      <td id=\"T_e6ca1_row3_col2\" class=\"data row3 col2\" >0.813902</td>\n",
       "      <td id=\"T_e6ca1_row3_col3\" class=\"data row3 col3\" >0.826087</td>\n",
       "      <td id=\"T_e6ca1_row3_col4\" class=\"data row3 col4\" >0.824306</td>\n",
       "    </tr>\n",
       "    <tr>\n",
       "      <th id=\"T_e6ca1_level0_row4\" class=\"row_heading level0 row4\" >4</th>\n",
       "      <td id=\"T_e6ca1_row4_col0\" class=\"data row4 col0\" >Random Forest Classifier</td>\n",
       "      <td id=\"T_e6ca1_row4_col1\" class=\"data row4 col1\" >0.885135</td>\n",
       "      <td id=\"T_e6ca1_row4_col2\" class=\"data row4 col2\" >0.890186</td>\n",
       "      <td id=\"T_e6ca1_row4_col3\" class=\"data row4 col3\" >0.891304</td>\n",
       "      <td id=\"T_e6ca1_row4_col4\" class=\"data row4 col4\" >0.890972</td>\n",
       "    </tr>\n",
       "  </tbody>\n",
       "</table>\n"
      ],
      "text/plain": [
       "<pandas.io.formats.style.Styler at 0x1ae98985670>"
      ]
     },
     "execution_count": 34,
     "metadata": {},
     "output_type": "execute_result"
    }
   ],
   "source": [
    "models = pd.DataFrame([\"Logistic Regression\",\n",
    "                      \"Support Vector Classifier\",\n",
    "                      \"K-Nearest Neighbors\",\n",
    "                      \"Decision Tree\",\n",
    "                      \"Random Forest Classifier\"])\n",
    "\n",
    "f1 = pd.DataFrame([f1_score_LR, f1_score_svc, f1_score_knn, f1_score_DT, f1_score_RF])\n",
    "\n",
    "precision = pd.DataFrame([precision_score_LR, precision_score_svc,\n",
    "                          precision_score_knn, precision_score_DT,\n",
    "                          precision_score_RF])\n",
    "\n",
    "accuracy = pd.DataFrame([accuracy_score_LR, accuracy_score_svc,\n",
    "                         accuracy_score_knn, accuracy_score_DT,\n",
    "                         accuracy_score_RF])\n",
    "\n",
    "recall = pd.DataFrame([recall_score_LR, recall_score_svc,\n",
    "                       recall_score_knn, recall_score_DT,\n",
    "                       recall_score_RF])\n",
    "\n",
    "df = pd.concat([models, f1, precision, accuracy, recall], axis=1)\n",
    "df.columns = [\"Algorithm\", \"F1\", \"Precision\", \"Accuracy\", \"Recall\"]\n",
    "\n",
    "df.style.highlight_max(subset=[\"F1\", \"Precision\", \"Accuracy\", \"Recall\"], color=\"#01AEB5\")"
   ]
  },
  {
   "cell_type": "markdown",
   "id": "22a3c5f1",
   "metadata": {},
   "source": [
    "## Hyperparameters Tunning"
   ]
  },
  {
   "cell_type": "code",
   "execution_count": 36,
   "id": "9392241a",
   "metadata": {},
   "outputs": [
    {
     "name": "stdout",
     "output_type": "stream",
     "text": [
      "Fitting 3 folds for each of 1520 candidates, totalling 4560 fits\n",
      "Best hiperparameters: {'metric': 'manhattan', 'n_neighbors': 1, 'weights': 'uniform'}\n"
     ]
    }
   ],
   "source": [
    "#LR.get_params()\n",
    "grid_LR = {'penalty' : ['l1', 'l2', 'elasticnet', 'none'], \"C\": range(1, 20),\n",
    "           \"solver\": [\"newton-cg\", \"lbfgs\", \"liblinear\", \"sag\", \"saga\"],\n",
    "           'max_iter' : [100, 1000,2500, 5000]}\n",
    "\n",
    "#logistic = LogisticRegression(random_state=0)\n",
    "logistic_cv = GridSearchCV(LogisticRegression(random_state=0), grid_LR, verbose = True, cv=3)\n",
    "logistic_cv.fit(x_train_scaled, y_train)\n",
    "y_pred_LR = logistic_cv.predict(x_test_scaled)\n",
    "\n",
    "print(\"Best hiperparameters: {}\".format(knn_cv.best_params_))\n",
    "\n",
    "f1_score_LR_h = f1_score(y_test, y_pred_LR, average=\"macro\")\n",
    "precision_score_LR_h = precision_score(y_test, y_pred_LR, average=\"macro\")\n",
    "accuracy_score_LR_h = accuracy_score(y_test, y_pred_LR)\n",
    "recall_score_LR_h = recall_score(y_test, y_pred_LR, average=\"macro\")"
   ]
  },
  {
   "cell_type": "code",
   "execution_count": 37,
   "id": "158270bd",
   "metadata": {},
   "outputs": [
    {
     "name": "stdout",
     "output_type": "stream",
     "text": [
      "Fitting 3 folds for each of 100 candidates, totalling 300 fits\n",
      "Best hiperparameters: {'C': 1000, 'gamma': 0.01, 'kernel': 'rbf'}\n"
     ]
    }
   ],
   "source": [
    "#svc.get_params()\n",
    "grid_svc = {\"C\": [0.1, 1, 10, 100, 1000],\n",
    "            'gamma': [1, 0.1, 0.01, 0.001, 0.0001],\n",
    "            \"kernel\": [\"linear\", \"poly\", \"rbf\", \"sigmoid\"]}\n",
    "\n",
    "svc_cv = GridSearchCV(SVC(random_state=0), grid_svc, verbose=True, cv=3)\n",
    "svc_cv.fit(x_train_scaled, y_train)\n",
    "y_pred_svc = svc_cv.predict(x_test_scaled)\n",
    "\n",
    "print(\"Best hiperparameters: {}\".format(svc_cv.best_params_))\n",
    "            \n",
    "f1_score_svc_h = f1_score(y_test, y_pred_svc, average=\"macro\")\n",
    "precision_score_svc_h = precision_score(y_test, y_pred_svc, average=\"macro\")\n",
    "accuracy_score_svc_h = accuracy_score(y_test, y_pred_svc)\n",
    "recall_score_svc_h = recall_score(y_test, y_pred_svc, average=\"macro\")"
   ]
  },
  {
   "cell_type": "code",
   "execution_count": 35,
   "id": "0c694a02",
   "metadata": {},
   "outputs": [
    {
     "name": "stdout",
     "output_type": "stream",
     "text": [
      "Fitting 3 folds for each of 294 candidates, totalling 882 fits\n",
      "Best hiperparameters: {'metric': 'manhattan', 'n_neighbors': 1, 'weights': 'uniform'}\n"
     ]
    }
   ],
   "source": [
    "#knn.get_params()\n",
    "grid_knn = {\"n_neighbors\": np.arange(1, 50),\n",
    "            'weights' : ['uniform','distance'],\n",
    "            'metric' : ['minkowski','euclidean','manhattan']}\n",
    "\n",
    "knn_cv = GridSearchCV(KNeighborsClassifier(), grid_knn, verbose=1, cv=3, n_jobs=-1)\n",
    "knn_cv.fit(x_train_scaled, y_train)\n",
    "y_pred_knn = knn_cv.predict(x_test_scaled)\n",
    "\n",
    "print(\"Best hiperparameters: {}\".format(knn_cv.best_params_))\n",
    "\n",
    "f1_score_knn_h = f1_score(y_test, y_pred_knn, average=\"macro\")\n",
    "precision_score_knn_h = precision_score(y_test, y_pred_knn, average=\"macro\")\n",
    "accuracy_score_knn_h = accuracy_score(y_test, y_pred_knn)\n",
    "recall_score_knn_h = recall_score(y_test, y_pred_knn, average=\"macro\")"
   ]
  },
  {
   "cell_type": "code",
   "execution_count": 52,
   "id": "86e5cb20",
   "metadata": {},
   "outputs": [
    {
     "name": "stdout",
     "output_type": "stream",
     "text": [
      "Fitting 3 folds for each of 50 candidates, totalling 150 fits\n",
      "Best hiperparameters: {'criterion': 'entropy', 'max_depth': 10, 'min_samples_leaf': 5}\n"
     ]
    }
   ],
   "source": [
    "#DT.get_params()\n",
    "grid_DT = {'max_depth': [2, 3, 5, 10, 20],\n",
    "           'min_samples_leaf': [5, 10, 20, 50, 100],\n",
    "           'criterion': [\"gini\", \"entropy\"]}\n",
    "\n",
    "dt = tree.DecisionTreeClassifier(random_state=0)\n",
    "DT_cv = GridSearchCV(estimator=dt, param_grid=grid_DT, verbose=1, cv=3, scoring=\"accuracy\")\n",
    "DT_cv.fit(x_train_scaled, y_train)\n",
    "y_pred_DT = DT_cv.predict(x_test_scaled)\n",
    "\n",
    "print(\"Best hiperparameters: {}\".format(DT_cv.best_params_))\n",
    "\n",
    "f1_score_DT_h = f1_score(y_test, y_pred_DT, average=\"macro\")\n",
    "precision_score_DT_h = precision_score(y_test, y_pred_DT, average=\"macro\")\n",
    "accuracy_score_DT_h = accuracy_score(y_test, y_pred_DT)\n",
    "recall_score_DT_h = recall_score(y_test, y_pred_DT, average=\"macro\")"
   ]
  },
  {
   "cell_type": "code",
   "execution_count": 61,
   "id": "a01f8ee9",
   "metadata": {},
   "outputs": [
    {
     "name": "stdout",
     "output_type": "stream",
     "text": [
      "Best hiperparameters: {'bootstrap': True, 'max_depth': 50, 'max_features': 1, 'n_estimators': 23}\n"
     ]
    }
   ],
   "source": [
    "#RF.get_params()\n",
    "grid_RF = {\"n_estimators\": np.arange(1, 120), 'max_features': [1, 20],\n",
    "           \"max_depth\": [1, 50, None], 'bootstrap': [True, False]}\n",
    "\n",
    "RF_cv = GridSearchCV(RandomForestClassifier(random_state=0), grid_RF, cv=3, scoring='neg_mean_squared_error')\n",
    "RF_cv.fit(x_train_scaled, y_train)\n",
    "y_pred_RF = RF_cv.predict(x_test_scaled)\n",
    "\n",
    "print(\"Best hiperparameters: {}\".format(RF_cv.best_params_))\n",
    "\n",
    "f1_score_RF_h = f1_score(y_test, y_pred_RF, average=\"macro\")\n",
    "precision_score_RF_h = precision_score(y_test, y_pred_RF, average=\"macro\")\n",
    "accuracy_score_RF_h = accuracy_score(y_test, y_pred_RF)\n",
    "recall_score_RF_h = recall_score(y_test, y_pred_RF, average=\"macro\")"
   ]
  },
  {
   "cell_type": "code",
   "execution_count": 62,
   "id": "0b41c316",
   "metadata": {},
   "outputs": [
    {
     "data": {
      "text/html": [
       "<style type=\"text/css\">\n",
       "#T_7edb2_row2_col1, #T_7edb2_row2_col2, #T_7edb2_row4_col3, #T_7edb2_row4_col4 {\n",
       "  background-color: #01AEB5;\n",
       "}\n",
       "</style>\n",
       "<table id=\"T_7edb2\">\n",
       "  <thead>\n",
       "    <tr>\n",
       "      <th class=\"blank level0\" >&nbsp;</th>\n",
       "      <th id=\"T_7edb2_level0_col0\" class=\"col_heading level0 col0\" >Algorithm</th>\n",
       "      <th id=\"T_7edb2_level0_col1\" class=\"col_heading level0 col1\" >F1</th>\n",
       "      <th id=\"T_7edb2_level0_col2\" class=\"col_heading level0 col2\" >Precision</th>\n",
       "      <th id=\"T_7edb2_level0_col3\" class=\"col_heading level0 col3\" >Accuracy</th>\n",
       "      <th id=\"T_7edb2_level0_col4\" class=\"col_heading level0 col4\" >Recall</th>\n",
       "    </tr>\n",
       "  </thead>\n",
       "  <tbody>\n",
       "    <tr>\n",
       "      <th id=\"T_7edb2_level0_row0\" class=\"row_heading level0 row0\" >0</th>\n",
       "      <td id=\"T_7edb2_row0_col0\" class=\"data row0 col0\" >Logistic Regression</td>\n",
       "      <td id=\"T_7edb2_row0_col1\" class=\"data row0 col1\" >0.712261</td>\n",
       "      <td id=\"T_7edb2_row0_col2\" class=\"data row0 col2\" >0.704657</td>\n",
       "      <td id=\"T_7edb2_row0_col3\" class=\"data row0 col3\" >0.728261</td>\n",
       "      <td id=\"T_7edb2_row0_col4\" class=\"data row0 col4\" >0.727083</td>\n",
       "    </tr>\n",
       "    <tr>\n",
       "      <th id=\"T_7edb2_level0_row1\" class=\"row_heading level0 row1\" >1</th>\n",
       "      <td id=\"T_7edb2_row1_col0\" class=\"data row1 col0\" >Support Vector Classifier</td>\n",
       "      <td id=\"T_7edb2_row1_col1\" class=\"data row1 col1\" >0.831625</td>\n",
       "      <td id=\"T_7edb2_row1_col2\" class=\"data row1 col2\" >0.837483</td>\n",
       "      <td id=\"T_7edb2_row1_col3\" class=\"data row1 col3\" >0.826087</td>\n",
       "      <td id=\"T_7edb2_row1_col4\" class=\"data row1 col4\" >0.825694</td>\n",
       "    </tr>\n",
       "    <tr>\n",
       "      <th id=\"T_7edb2_level0_row2\" class=\"row_heading level0 row2\" >2</th>\n",
       "      <td id=\"T_7edb2_row2_col0\" class=\"data row2 col0\" >K-Nearest Neighbors</td>\n",
       "      <td id=\"T_7edb2_row2_col1\" class=\"data row2 col1\" >0.910432</td>\n",
       "      <td id=\"T_7edb2_row2_col2\" class=\"data row2 col2\" >0.923246</td>\n",
       "      <td id=\"T_7edb2_row2_col3\" class=\"data row2 col3\" >0.815217</td>\n",
       "      <td id=\"T_7edb2_row2_col4\" class=\"data row2 col4\" >0.814583</td>\n",
       "    </tr>\n",
       "    <tr>\n",
       "      <th id=\"T_7edb2_level0_row3\" class=\"row_heading level0 row3\" >3</th>\n",
       "      <td id=\"T_7edb2_row3_col0\" class=\"data row3 col0\" >Decision Tree</td>\n",
       "      <td id=\"T_7edb2_row3_col1\" class=\"data row3 col1\" >0.799638</td>\n",
       "      <td id=\"T_7edb2_row3_col2\" class=\"data row3 col2\" >0.800295</td>\n",
       "      <td id=\"T_7edb2_row3_col3\" class=\"data row3 col3\" >0.804348</td>\n",
       "      <td id=\"T_7edb2_row3_col4\" class=\"data row3 col4\" >0.802778</td>\n",
       "    </tr>\n",
       "    <tr>\n",
       "      <th id=\"T_7edb2_level0_row4\" class=\"row_heading level0 row4\" >4</th>\n",
       "      <td id=\"T_7edb2_row4_col0\" class=\"data row4 col0\" >Random Forest Classifier</td>\n",
       "      <td id=\"T_7edb2_row4_col1\" class=\"data row4 col1\" >0.869783</td>\n",
       "      <td id=\"T_7edb2_row4_col2\" class=\"data row4 col2\" >0.873611</td>\n",
       "      <td id=\"T_7edb2_row4_col3\" class=\"data row4 col3\" >0.880435</td>\n",
       "      <td id=\"T_7edb2_row4_col4\" class=\"data row4 col4\" >0.879167</td>\n",
       "    </tr>\n",
       "  </tbody>\n",
       "</table>\n"
      ],
      "text/plain": [
       "<pandas.io.formats.style.Styler at 0x1ae9425f340>"
      ]
     },
     "execution_count": 62,
     "metadata": {},
     "output_type": "execute_result"
    }
   ],
   "source": [
    "models = pd.DataFrame([\"Logistic Regression\", \"Support Vector Classifier\",\n",
    "                       \"K-Nearest Neighbors\", \"Decision Tree\",\n",
    "                       \"Random Forest Classifier\"])\n",
    "\n",
    "f1 = pd.DataFrame([f1_score_logistic_h, f1_score_svc_h,\n",
    "                   f1_score_knn_h, f1_score_DT_h, f1_score_RF_h])\n",
    "\n",
    "precision = pd.DataFrame([precision_score_logistic_h, precision_score_svc_h, \n",
    "                          precision_score_knn_h, precision_score_DT_h,\n",
    "                          precision_score_RF_h])\n",
    "\n",
    "accuracy = pd.DataFrame([accuracy_score_logistic_h,accuracy_score_svc,\n",
    "                         accuracy_score_knn, accuracy_score_DT_h,\n",
    "                         accuracy_score_RF_h])\n",
    "\n",
    "recall = pd.DataFrame([recall_score_logistic_h, recall_score_svc,\n",
    "                       recall_score_knn, recall_score_DT_h,\n",
    "                       recall_score_RF_h,])\n",
    "\n",
    "df2 = pd.concat([models, f1, precision, accuracy, recall], axis=1)\n",
    "df2.columns = [\"Algorithm\", \"F1\", \"Precision\", \"Accuracy\", \"Recall\"]\n",
    "\n",
    "df2.style.highlight_max(subset=[\"F1\", \"Precision\", \"Accuracy\", \"Recall\"], color=\"#01AEB5\")"
   ]
  }
 ],
 "metadata": {
  "kernelspec": {
   "display_name": "Python 3 (ipykernel)",
   "language": "python",
   "name": "python3"
  },
  "language_info": {
   "codemirror_mode": {
    "name": "ipython",
    "version": 3
   },
   "file_extension": ".py",
   "mimetype": "text/x-python",
   "name": "python",
   "nbconvert_exporter": "python",
   "pygments_lexer": "ipython3",
   "version": "3.9.13"
  }
 },
 "nbformat": 4,
 "nbformat_minor": 5
}
